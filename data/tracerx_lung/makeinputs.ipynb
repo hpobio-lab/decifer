{
 "cells": [
  {
   "cell_type": "code",
   "execution_count": 1,
   "metadata": {
    "collapsed": true
   },
   "outputs": [],
   "source": [
    "import os, sys, glob\n",
    "import shutil, subprocess, shlex\n",
    "import math\n",
    "import numpy as np\n",
    "import pandas as pd\n",
    "%matplotlib inline\n",
    "#%config InlineBackend.figure_format = 'svg'\n",
    "import matplotlib as mpl\n",
    "import matplotlib.pyplot as plt\n",
    "import seaborn as sns\n",
    "from collections import Counter\n",
    "from collections import deque\n",
    "import itertools\n",
    "from itertools import cycle\n",
    "\n",
    "plt.style.use('ggplot')\n",
    "plt.rcParams[\"font.family\"] = \"Times New Roman\"\n",
    "sns.set_style(\"whitegrid\")\n",
    "\n",
    "orderchrs = (lambda y : int(''.join([l for l in y if l.isdigit()])))"
   ]
  },
  {
   "cell_type": "code",
   "execution_count": 2,
   "metadata": {},
   "outputs": [],
   "source": [
    "# Read CNAs from ASCAT\n",
    "\n",
    "cnas = {}\n",
    "plopur = {}\n",
    "with open('data/cnas.csv') as i:\n",
    "    for idx, line in enumerate(i):\n",
    "        if 0 <= idx <= 9:\n",
    "            assert line[0] == '#'\n",
    "        elif idx == 10:\n",
    "            assert line.split()[0] == 'sample'\n",
    "        else:\n",
    "            parsed = line.strip().split()\n",
    "            patient = parsed[0].split('-')[0]\n",
    "            sample = parsed[0].split('-')[1]\n",
    "            \n",
    "            ch = parsed[1]\n",
    "            assert int(ch) in range(1, 25), ch\n",
    "            \n",
    "            seg = (int(parsed[2]), int(parsed[3]))\n",
    "            assert seg[0] >= 0 and seg[1] >= 0\n",
    "            \n",
    "            cnstate = (int(parsed[6]), int(parsed[7]))\n",
    "            assert cnstate[0] >= 0 and cnstate[1] >= 0 and sum(cnstate) == int(parsed[5])\n",
    "            \n",
    "            ploidy = float(parsed[8])\n",
    "            \n",
    "            purity = float(parsed[9])\n",
    "            assert 0.0 <= purity <= 1.0\n",
    "            \n",
    "            if patient not in cnas:\n",
    "                cnas[patient] = {}\n",
    "                plopur[patient] = {}\n",
    "                \n",
    "            if sample not in cnas[patient]:\n",
    "                cnas[patient][sample] = {}\n",
    "                plopur[patient][sample] = {'ploidy' : ploidy, 'purity' : purity}\n",
    "            else:\n",
    "                assert plopur[patient][sample]['ploidy'] == ploidy\n",
    "                assert plopur[patient][sample]['purity'] == purity\n",
    "                \n",
    "            if ch not in cnas[patient][sample]:\n",
    "                cnas[patient][sample][ch] = {}\n",
    "                \n",
    "            chseg = sorted(cnas[patient][sample][ch], key=(lambda x : x[0]), reverse=True)\n",
    "            for u in chseg:\n",
    "                assert u[0] <= u[1] <= seg[0] or seg[1] <= u[0] <= u[1]\n",
    "                if seg[1] <= u[0] <= u[1]:\n",
    "                    break\n",
    "            cnas[patient][sample][ch][seg] = cnstate"
   ]
  },
  {
   "cell_type": "code",
   "execution_count": 3,
   "metadata": {},
   "outputs": [
    {
     "name": "stdout",
     "output_type": "stream",
     "text": [
      "Number of patients: 100\n",
      "Number of samples: 303\n"
     ]
    }
   ],
   "source": [
    "# General statistics\n",
    "\n",
    "print 'Number of patients: {}'.format(len(cnas))\n",
    "print 'Number of samples: {}'.format(sum(len(cnas[p]) for p in cnas))"
   ]
  },
  {
   "cell_type": "code",
   "execution_count": 4,
   "metadata": {},
   "outputs": [
    {
     "data": {
      "text/plain": [
       "<matplotlib.axes._subplots.AxesSubplot at 0x7f8f380bae50>"
      ]
     },
     "execution_count": 4,
     "metadata": {},
     "output_type": "execute_result"
    },
    {
     "data": {
      "image/png": "[encoded data removed]",
      "text/plain": [
       "<matplotlib.figure.Figure at 0x7f8f38118e10>"
      ]
     },
     "metadata": {},
     "output_type": "display_data"
    }
   ],
   "source": [
    "# ploidy \n",
    "df = [{'Patient' : p, 'Sample' : s, 'Ploidy' : plopur[p][s]['ploidy']} for p in plopur for s in plopur[p]]\n",
    "sns.distplot(pd.DataFrame(df)['Ploidy'], kde=False, rug=True, norm_hist=False)"
   ]
  },
  {
   "cell_type": "code",
   "execution_count": 5,
   "metadata": {},
   "outputs": [
    {
     "data": {
      "text/plain": [
       "<matplotlib.axes._subplots.AxesSubplot at 0x7f8e7953f210>"
      ]
     },
     "execution_count": 5,
     "metadata": {},
     "output_type": "execute_result"
    },
    {
     "data": {
      "image/png": "[encoded data removed]",
      "text/plain": [
       "<matplotlib.figure.Figure at 0x7f8ec935ec10>"
      ]
     },
     "metadata": {},
     "output_type": "display_data"
    }
   ],
   "source": [
    "# ploidy \n",
    "df = [{'Patient' : p, 'Sample' : s, 'Purity' : plopur[p][s]['purity']} for p in plopur for s in plopur[p]]\n",
    "sns.distplot(pd.DataFrame(df)['Purity'], kde=False, rug=True, norm_hist=False)"
   ]
  },
  {
   "cell_type": "code",
   "execution_count": 6,
   "metadata": {
    "collapsed": true
   },
   "outputs": [],
   "source": [
    "def findsegment(patient, ch, o):\n",
    "    found = {}\n",
    "    for sample in cnas[patient]:\n",
    "        if ch not in cnas[patient][sample]:\n",
    "            return None\n",
    "        \n",
    "        segs = sorted(cnas[patient][sample][ch], key=(lambda x : x[0]))\n",
    "        \n",
    "        L = 0\n",
    "        R = len(segs) - 1\n",
    "\n",
    "        if not (segs[0][0] <= o <= segs[-1][1]):\n",
    "            return None\n",
    "            continue\n",
    "        if o == segs[L][0]:\n",
    "            found[sample] = segs[L]\n",
    "            continue\n",
    "        if o == segs[R][1]:\n",
    "            found[sample] = segs[R]\n",
    "            continue\n",
    "\n",
    "        while (R - L) > 1:\n",
    "            M = int(round(float(R + L) / 2.0))\n",
    "            if segs[L][0] <= o < segs[M][1]:\n",
    "                R = M\n",
    "            else:\n",
    "                L = M\n",
    "        if segs[L][0] <= o < segs[L][1]:\n",
    "            found[sample] = segs[L]\n",
    "            continue\n",
    "        elif segs[R][0] < o <= segs[R][1]:\n",
    "            found[sample] = segs[R]\n",
    "            continue\n",
    "        elif o == segs[L][1] and o == segs[R][0]:\n",
    "            found[sample] = segs[R]\n",
    "            continue\n",
    "        elif o == segs[L][1]:\n",
    "            found[sample] = segs[L]\n",
    "            continue\n",
    "        elif o == segs[R][0]:\n",
    "            found[sample] = segs[R]\n",
    "            continue\n",
    "        else:\n",
    "            return None\n",
    "            assert False, '{} {} {} {}'.format(patient, sample, ch, o)\n",
    "    return found"
   ]
  },
  {
   "cell_type": "code",
   "execution_count": 8,
   "metadata": {},
   "outputs": [
    {
     "name": "stdout",
     "output_type": "stream",
     "text": [
      "SNVs discarded because not covered by CNAs: 0\n",
      "SNVs with discordant counts: 0\n",
      "Samples discarded because missing infered of either SNVs or CNAs: 24\n"
     ]
    }
   ],
   "source": [
    "# Read SNVs \n",
    "\n",
    "snvs = {}\n",
    "discarded = 0\n",
    "discsamples = set()\n",
    "contr = 0\n",
    "with open('data/mutations.csv') as i:\n",
    "    for idx, line in enumerate(i):\n",
    "        if 0 <= idx <= 18:\n",
    "            assert line[0] == '#'\n",
    "        elif idx == 19:\n",
    "            assert line.split()[0] == 'MutationID'\n",
    "        else:\n",
    "            parsed = line.strip().split('\\t')\n",
    "            if len(parsed) > 0:\n",
    "                idx = parsed[0]\n",
    "                patient = parsed[1]\n",
    "\n",
    "                ch = parsed[2]\n",
    "                assert int(ch) in range(1, 25), ch\n",
    "\n",
    "                start = int(parsed[3])\n",
    "\n",
    "                segs = findsegment(patient, ch, start)\n",
    "#                if segs is None:\n",
    "#                    discarded += 1\n",
    "#                    continue\n",
    "                \n",
    "                assert segs is None or False not in set(segs[s][0] <= start <= segs[s][1] for s in segs)\n",
    "\n",
    "                if patient not in snvs:\n",
    "                    snvs[patient] = {}\n",
    "                if ch not in snvs[patient]:\n",
    "                    snvs[patient][ch] = {}\n",
    "\n",
    "                assert idx not in snvs[patient][ch]\n",
    "\n",
    "                vaf = parsed[14].split(';')\n",
    "                ex = (lambda x : (int(x.split('/')[0]), int(x.split('/')[1])))\n",
    "                tmp = {p.split(':')[0] : ex(p.split(':')[1]) for p in vaf if p.split(':')[0] in cnas[patient]}\n",
    "                if False in set(tmp[p][0] <= tmp[p][1] for p in tmp):\n",
    "#                     contr += 1\n",
    "#                     continue\n",
    "                    for p in tmp:\n",
    "                        if tmp[p][1] < tmp[p][0]:\n",
    "                            tmp[p] = (tmp[p][0], tmp[p][0])    \n",
    "                #                assert False not in set(snv['counts'][p][0] <= snv['counts'][p][1] for p in snv['counts']), snv['counts']\n",
    "\n",
    "                snvs[patient][ch][idx] = {}\n",
    "                snv = snvs[patient][ch][idx]\n",
    "                \n",
    "                assert False not in set(tmp[p][0] <= tmp[p][1] for p in tmp)\n",
    "                snv['counts'] = tmp\n",
    "                \n",
    "                tmp = set(p.split(':')[0] for p in vaf)\n",
    "                if(tmp != set(cnas[patient])):\n",
    "                    discsamples = discsamples.union(set((patient, s) for s in tmp.union(set(cnas[patient])) if s not in tmp or s not in set(cnas[patient])))\n",
    "                \n",
    "                snv['start'] = start\n",
    "                snv['stop'] = int(parsed[4])\n",
    "                ref = parsed[5]\n",
    "                var = parsed[6]\n",
    "                hugo = parsed[7]\n",
    "                func = parsed[8]\n",
    "                exfunc = parsed[9]\n",
    "                snv['seg'] = segs\n",
    "                snv['cnstate'] = {s : cnas[patient][s][ch][segs[s]] if segs else (1, 1) for s in snv['counts']}\n",
    "                \n",
    "print 'SNVs discarded because not covered by CNAs: {}'.format(discarded)\n",
    "print 'SNVs with discordant counts: {}'.format(contr)\n",
    "print 'Samples discarded because missing infered of either SNVs or CNAs: {}'.format(len(discsamples))"
   ]
  },
  {
   "cell_type": "code",
   "execution_count": 11,
   "metadata": {},
   "outputs": [
    {
     "data": {
      "text/plain": [
       "{('CRUK0024', 'R2'),\n",
       " ('CRUK0027', 'R3'),\n",
       " ('CRUK0029', 'R1'),\n",
       " ('CRUK0042', 'R2'),\n",
       " ('CRUK0045', 'R2'),\n",
       " ('CRUK0052', 'R2'),\n",
       " ('CRUK0053', 'R1'),\n",
       " ('CRUK0055', 'R1'),\n",
       " ('CRUK0055', 'R3'),\n",
       " ('CRUK0055', 'R4'),\n",
       " ('CRUK0060', 'R2'),\n",
       " ('CRUK0065', 'R7'),\n",
       " ('CRUK0072', 'R3'),\n",
       " ('CRUK0074', 'R3'),\n",
       " ('CRUK0080', 'R2'),\n",
       " ('CRUK0081', 'R6'),\n",
       " ('CRUK0089', 'R1'),\n",
       " ('CRUK0091', 'R1'),\n",
       " ('CRUK0092', 'R2'),\n",
       " ('CRUK0093', 'R2'),\n",
       " ('CRUK0099', 'LN1'),\n",
       " ('CRUK0099', 'R2'),\n",
       " ('CRUK0099', 'R4'),\n",
       " ('CRUK0099', 'R5')}"
      ]
     },
     "execution_count": 11,
     "metadata": {},
     "output_type": "execute_result"
    }
   ],
   "source": [
    "discsamples"
   ]
  },
  {
   "cell_type": "code",
   "execution_count": 9,
   "metadata": {
    "collapsed": true
   },
   "outputs": [],
   "source": [
    "for pat in snvs:\n",
    "    with open('{}.input.tsv'.format(pat), 'w') as o:\n",
    "        tch = list(snvs[pat])[0]\n",
    "        tidx = list(snvs[pat][tch])[0]\n",
    "        samples = sorted(list(snvs[pat][tch][tidx]['cnstate']))\n",
    "        assert False not in set(set(snvs[pat][ch][idx]['cnstate']) == set(samples) for ch in snvs[pat] for idx in snvs[pat][ch])\n",
    "        \n",
    "        pos = [(ch, idx) for ch in sorted(snvs[pat], key=orderchrs) for idx in sorted(snvs[pat][ch])]\n",
    "        \n",
    "        o.write('{} #samples\\n'.format(len(samples)))\n",
    "        o.write('{} #characters\\n'.format(len(pos)))\n",
    "        o.write('#sample_index\\tsample_label\\tcharacter_index\\tcharacter_label\\tref\\tvar\\n')\n",
    "        \n",
    "        for k, sam in enumerate(samples):\n",
    "            for n, p in enumerate(pos):\n",
    "                ch = p[0]\n",
    "                idx = p[1]\n",
    "                alt = snvs[pat][ch][idx]['counts'][sam][0]\n",
    "                ref = snvs[pat][ch][idx]['counts'][sam][1] - alt\n",
    "                assert ref >= 0 and alt + ref == snvs[pat][ch][idx]['counts'][sam][1], ref\n",
    "                r = '{}\\t{}\\t{}\\t{}\\t{}\\t{}'.format(k, sam, n, idx, ref, alt)\n",
    "                r += '\\t{}\\t{}\\t{}'.format(1, 1, 1.0 - plopur[pat][sam]['purity'])\n",
    "                r += '\\t{}\\t{}\\t{}\\n'.format(snvs[pat][ch][idx]['cnstate'][sam][0], snvs[pat][ch][idx]['cnstate'][sam][1], plopur[pat][sam]['purity'])\n",
    "                o.write(r)\n",
    "                    "
   ]
  },
  {
   "cell_type": "code",
   "execution_count": 10,
   "metadata": {
    "collapsed": true
   },
   "outputs": [],
   "source": [
    "maxcn = 4\n",
    "for pat in snvs:\n",
    "    with open('{}.capped4.input.tsv'.format(pat), 'w') as o:\n",
    "        tch = list(snvs[pat])[0]\n",
    "        tidx = list(snvs[pat][tch])[0]\n",
    "        samples = sorted(list(snvs[pat][tch][tidx]['cnstate']))\n",
    "        assert False not in set(set(snvs[pat][ch][idx]['cnstate']) == set(samples) for ch in snvs[pat] for idx in snvs[pat][ch])\n",
    "        \n",
    "        pos = [(ch, idx) for ch in sorted(snvs[pat], key=orderchrs) for idx in sorted(snvs[pat][ch])]\n",
    "#        pos = [x for x in tmp if max(max(i) for i in snvs[pat][x[0]][x[1]]['cnstate'].values()) <= maxcn]\n",
    "#        disc[pat] = (len(tmp), len(tmp) - len(pos))\n",
    "        \n",
    "        o.write('{} #samples\\n'.format(len(samples)))\n",
    "        o.write('{} #characters\\n'.format(len(pos)))\n",
    "        o.write('#sample_index\\tsample_label\\tcharacter_index\\tcharacter_label\\tref\\tvar\\n')\n",
    "        \n",
    "        for k, sam in enumerate(samples):\n",
    "            for n, p in enumerate(pos):\n",
    "                ch = p[0]\n",
    "                idx = p[1]\n",
    "                alt = snvs[pat][ch][idx]['counts'][sam][0]\n",
    "                ref = snvs[pat][ch][idx]['counts'][sam][1] - alt\n",
    "                assert ref >= 0 and alt + ref == snvs[pat][ch][idx]['counts'][sam][1], ref\n",
    "                r = '{}\\t{}\\t{}\\t{}\\t{}\\t{}'.format(k, sam, n, idx, ref, alt)\n",
    "                r += '\\t{}\\t{}\\t{}'.format(1, 1, 1.0 - plopur[pat][sam]['purity'])\n",
    "                cnA = min(snvs[pat][ch][idx]['cnstate'][sam][0], maxcn)\n",
    "                cnB = min(snvs[pat][ch][idx]['cnstate'][sam][1], maxcn)\n",
    "                r += '\\t{}\\t{}\\t{}\\n'.format(cnA, cnB, plopur[pat][sam]['purity'])\n",
    "                o.write(r)\n",
    "                    "
   ]
  },
  {
   "cell_type": "code",
   "execution_count": 31,
   "metadata": {},
   "outputs": [
    {
     "data": {
      "image/png": "[encoded data removed]",
      "text/plain": [
       "<matplotlib.figure.Figure at 0x7f85361f3990>"
      ]
     },
     "metadata": {},
     "output_type": "display_data"
    }
   ],
   "source": [
    "df = [{'Patient' : i, 'Discarded' : disc[i][1]} for i in disc]\n",
    "plt.figure(figsize=(16, 5))\n",
    "g = sns.barplot(data=pd.DataFrame(df), x='Patient', y='Discarded')\n",
    "plt.xticks(rotation=90)\n",
    "plt.title('Number of mutations discarded with maximum allelic CN: {}'.format(maxcn))\n",
    "plt.savefig('plot.pdf', bbox_inches='tight')"
   ]
  },
  {
   "cell_type": "code",
   "execution_count": 32,
   "metadata": {},
   "outputs": [
    {
     "data": {
      "image/png": "[encoded data removed]",
      "text/plain": [
       "<matplotlib.figure.Figure at 0x7f8535e1b890>"
      ]
     },
     "metadata": {},
     "output_type": "display_data"
    }
   ],
   "source": [
    "df = [{'Patient' : i, 'Discarded' : disc[i][1] / float(disc[i][0])} for i in disc]\n",
    "plt.figure(figsize=(16, 5))\n",
    "g = sns.barplot(data=pd.DataFrame(df), x='Patient', y='Discarded')\n",
    "plt.xticks(rotation=90)\n",
    "plt.title('Percentage of mutations discarded with maximum allelic CN: {}'.format(maxcn))\n",
    "plt.savefig('plot.pdf', bbox_inches='tight')"
   ]
  },
  {
   "cell_type": "code",
   "execution_count": 17,
   "metadata": {},
   "outputs": [
    {
     "name": "stdout",
     "output_type": "stream",
     "text": [
      "CRUK0043\n",
      "CRUK0042\n",
      "CRUK0041\n",
      "CRUK0040\n",
      "CRUK0047\n",
      "CRUK0046\n",
      "CRUK0045\n",
      "CRUK0044\n",
      "CRUK0049\n",
      "CRUK0048\n",
      "CRUK0076\n",
      "CRUK0077\n",
      "CRUK0074\n",
      "CRUK0075\n",
      "CRUK0072\n",
      "CRUK0073\n",
      "CRUK0070\n",
      "CRUK0071\n",
      "CRUK0078\n",
      "CRUK0079\n",
      "CRUK0094\n",
      "CRUK0095\n",
      "CRUK0096\n",
      "CRUK0097\n",
      "CRUK0090\n",
      "CRUK0091\n",
      "CRUK0092\n",
      "CRUK0093\n",
      "CRUK0098\n",
      "CRUK0099\n",
      "CRUK0069\n",
      "CRUK0068\n",
      "CRUK0061\n",
      "CRUK0060\n",
      "CRUK0063\n",
      "CRUK0062\n",
      "CRUK0065\n",
      "CRUK0064\n",
      "CRUK0067\n",
      "CRUK0066\n",
      "CRUK0087\n",
      "CRUK0086\n",
      "CRUK0085\n",
      "CRUK0084\n",
      "CRUK0083\n",
      "CRUK0082\n",
      "CRUK0081\n",
      "CRUK0080\n",
      "CRUK0089\n",
      "CRUK0088\n",
      "CRUK0018\n",
      "CRUK0019\n",
      "CRUK0014\n",
      "CRUK0015\n",
      "CRUK0016\n",
      "CRUK0017\n",
      "CRUK0010\n",
      "CRUK0011\n",
      "CRUK0012\n",
      "CRUK0013\n",
      "CRUK0009\n",
      "CRUK0008\n",
      "CRUK0007\n",
      "CRUK0006\n",
      "CRUK0005\n",
      "CRUK0004\n",
      "CRUK0003\n",
      "CRUK0002\n",
      "CRUK0001\n",
      "CRUK0100\n",
      "CRUK0032\n",
      "CRUK0033\n",
      "CRUK0030\n",
      "CRUK0031\n",
      "CRUK0036\n",
      "CRUK0037\n",
      "CRUK0034\n",
      "CRUK0035\n",
      "CRUK0038\n",
      "CRUK0039\n",
      "CRUK0050\n",
      "CRUK0051\n",
      "CRUK0052\n",
      "CRUK0053\n",
      "CRUK0054\n",
      "CRUK0055\n",
      "CRUK0056\n",
      "CRUK0057\n",
      "CRUK0058\n",
      "CRUK0059\n",
      "CRUK0025\n",
      "CRUK0024\n",
      "CRUK0027\n",
      "CRUK0026\n",
      "CRUK0021\n",
      "CRUK0020\n",
      "CRUK0023\n",
      "CRUK0022\n",
      "CRUK0029\n",
      "CRUK0028\n"
     ]
    },
    {
     "data": {
      "text/plain": [
       "[(0, 10)]"
      ]
     },
     "execution_count": 17,
     "metadata": {},
     "output_type": "execute_result"
    },
    {
     "data": {
      "image/png": "[encoded data removed]",
      "text/plain": [
       "<matplotlib.figure.Figure at 0x7f853ea2a450>"
      ]
     },
     "metadata": {},
     "output_type": "display_data"
    }
   ],
   "source": [
    "for pat in snvs:\n",
    "    mc = [max([max(snvs[pat][ch][s]['cnstate'][p]) for p in snvs[pat][ch][s]['cnstate']]) for ch in snvs[pat] for s in snvs[pat][ch]]\n",
    "    g = sns.distplot(mc, kde=False, norm_hist=False, hist_kws={'log':True}, bins=100)\n",
    "    print pat\n",
    "    \n",
    "g.set(xlim=(0, 10))"
   ]
  },
  {
   "cell_type": "code",
   "execution_count": null,
   "metadata": {
    "collapsed": true
   },
   "outputs": [],
   "source": []
  }
 ],
 "metadata": {
  "kernelspec": {
   "display_name": "Python 2",
   "language": "python",
   "name": "python2"
  },
  "language_info": {
   "codemirror_mode": {
    "name": "ipython",
    "version": 2
   },
   "file_extension": ".py",
   "mimetype": "text/x-python",
   "name": "python",
   "nbconvert_exporter": "python",
   "pygments_lexer": "ipython2",
   "version": "2.7.5"
  }
 },
 "nbformat": 4,
 "nbformat_minor": 2
}
